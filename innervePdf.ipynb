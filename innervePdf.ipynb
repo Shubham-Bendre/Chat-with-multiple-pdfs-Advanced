{
  "nbformat": 4,
  "nbformat_minor": 0,
  "metadata": {
    "colab": {
      "provenance": [],
      "authorship_tag": "ABX9TyNHELwtl+/bNGaAFrdMKrqW",
      "include_colab_link": true
    },
    "kernelspec": {
      "name": "python3",
      "display_name": "Python 3"
    },
    "language_info": {
      "name": "python"
    }
  },
  "cells": [
    {
      "cell_type": "markdown",
      "metadata": {
        "id": "view-in-github",
        "colab_type": "text"
      },
      "source": []
    },
    {
      "cell_type": "code",
      "execution_count": 3,
      "metadata": {
        "colab": {
          "base_uri": "https://localhost:8080/"
        },
        "id": "DFc2Xzrm_-e8",
        "outputId": "030dd33f-e8cb-4c60-9883-cc27961f1db6"
      },
      "outputs": [
        {
          "output_type": "stream",
          "name": "stdout",
          "text": [
            "Cloning into 'ask-multiple-pdfs'...\n",
            "remote: Enumerating objects: 50, done.\u001b[K\n",
            "remote: Total 50 (delta 0), reused 0 (delta 0), pack-reused 50 (from 1)\u001b[K\n",
            "Receiving objects: 100% (50/50), 196.42 KiB | 3.22 MiB/s, done.\n",
            "Resolving deltas: 100% (18/18), done.\n"
          ]
        }
      ],
      "source": [
        "!git clone https://github.com/alejandro-ao/ask-multiple-pdfs.git"
      ]
    },
    {
      "cell_type": "code",
      "source": [
        "%cd ask-multiple-pdfs"
      ],
      "metadata": {
        "id": "x7fhs2LiAF2w",
        "colab": {
          "base_uri": "https://localhost:8080/"
        },
        "outputId": "47e53915-9e8f-40b3-d593-f356b68d7050"
      },
      "execution_count": 2,
      "outputs": [
        {
          "output_type": "stream",
          "name": "stdout",
          "text": [
            "/content/ask-multiple-pdfs\n"
          ]
        }
      ]
    },
    {
      "cell_type": "code",
      "source": [
        "!pip install -r requirements.txt"
      ],
      "metadata": {
        "colab": {
          "base_uri": "https://localhost:8080/"
        },
        "id": "BdGmEVzaAIVm",
        "outputId": "e232890e-8c64-4a87-a072-26322f044296",
        "collapsed": true
      },
      "execution_count": 3,
      "outputs": [
        {
          "output_type": "stream",
          "name": "stdout",
          "text": [
            "Requirement already satisfied: langchain==0.0.184 in /usr/local/lib/python3.11/dist-packages (from -r requirements.txt (line 1)) (0.0.184)\n",
            "Requirement already satisfied: PyPDF2==3.0.1 in /usr/local/lib/python3.11/dist-packages (from -r requirements.txt (line 2)) (3.0.1)\n",
            "Requirement already satisfied: python-dotenv==1.0.0 in /usr/local/lib/python3.11/dist-packages (from -r requirements.txt (line 3)) (1.0.0)\n",
            "Requirement already satisfied: streamlit==1.18.1 in /usr/local/lib/python3.11/dist-packages (from -r requirements.txt (line 4)) (1.18.1)\n",
            "Requirement already satisfied: openai==0.27.6 in /usr/local/lib/python3.11/dist-packages (from -r requirements.txt (line 5)) (0.27.6)\n",
            "Requirement already satisfied: faiss-cpu==1.7.4 in /usr/local/lib/python3.11/dist-packages (from -r requirements.txt (line 6)) (1.7.4)\n",
            "Requirement already satisfied: altair==4 in /usr/local/lib/python3.11/dist-packages (from -r requirements.txt (line 7)) (4.0.0)\n",
            "Requirement already satisfied: tiktoken==0.4.0 in /usr/local/lib/python3.11/dist-packages (from -r requirements.txt (line 8)) (0.4.0)\n",
            "Requirement already satisfied: PyYAML>=5.4.1 in /usr/local/lib/python3.11/dist-packages (from langchain==0.0.184->-r requirements.txt (line 1)) (6.0.2)\n",
            "Requirement already satisfied: SQLAlchemy<3,>=1.4 in /usr/local/lib/python3.11/dist-packages (from langchain==0.0.184->-r requirements.txt (line 1)) (2.0.38)\n",
            "Requirement already satisfied: aiohttp<4.0.0,>=3.8.3 in /usr/local/lib/python3.11/dist-packages (from langchain==0.0.184->-r requirements.txt (line 1)) (3.11.12)\n",
            "Requirement already satisfied: dataclasses-json<0.6.0,>=0.5.7 in /usr/local/lib/python3.11/dist-packages (from langchain==0.0.184->-r requirements.txt (line 1)) (0.5.14)\n",
            "Requirement already satisfied: numexpr<3.0.0,>=2.8.4 in /usr/local/lib/python3.11/dist-packages (from langchain==0.0.184->-r requirements.txt (line 1)) (2.10.2)\n",
            "Requirement already satisfied: numpy<2,>=1 in /usr/local/lib/python3.11/dist-packages (from langchain==0.0.184->-r requirements.txt (line 1)) (1.26.4)\n",
            "Requirement already satisfied: openapi-schema-pydantic<2.0,>=1.2 in /usr/local/lib/python3.11/dist-packages (from langchain==0.0.184->-r requirements.txt (line 1)) (1.2.4)\n",
            "Requirement already satisfied: pydantic<2,>=1 in /usr/local/lib/python3.11/dist-packages (from langchain==0.0.184->-r requirements.txt (line 1)) (1.10.21)\n",
            "Requirement already satisfied: requests<3,>=2 in /usr/local/lib/python3.11/dist-packages (from langchain==0.0.184->-r requirements.txt (line 1)) (2.32.3)\n",
            "Requirement already satisfied: tenacity<9.0.0,>=8.1.0 in /usr/local/lib/python3.11/dist-packages (from langchain==0.0.184->-r requirements.txt (line 1)) (8.5.0)\n",
            "Requirement already satisfied: blinker>=1.0.0 in /usr/local/lib/python3.11/dist-packages (from streamlit==1.18.1->-r requirements.txt (line 4)) (1.9.0)\n",
            "Requirement already satisfied: cachetools>=4.0 in /usr/local/lib/python3.11/dist-packages (from streamlit==1.18.1->-r requirements.txt (line 4)) (5.5.1)\n",
            "Requirement already satisfied: click>=7.0 in /usr/local/lib/python3.11/dist-packages (from streamlit==1.18.1->-r requirements.txt (line 4)) (8.1.8)\n",
            "Requirement already satisfied: importlib-metadata>=1.4 in /usr/local/lib/python3.11/dist-packages (from streamlit==1.18.1->-r requirements.txt (line 4)) (8.6.1)\n",
            "Requirement already satisfied: packaging>=14.1 in /usr/local/lib/python3.11/dist-packages (from streamlit==1.18.1->-r requirements.txt (line 4)) (24.2)\n",
            "Requirement already satisfied: pandas>=0.25 in /usr/local/lib/python3.11/dist-packages (from streamlit==1.18.1->-r requirements.txt (line 4)) (2.2.2)\n",
            "Requirement already satisfied: pillow>=6.2.0 in /usr/local/lib/python3.11/dist-packages (from streamlit==1.18.1->-r requirements.txt (line 4)) (11.1.0)\n",
            "Requirement already satisfied: protobuf<4,>=3.12 in /usr/local/lib/python3.11/dist-packages (from streamlit==1.18.1->-r requirements.txt (line 4)) (3.20.3)\n",
            "Requirement already satisfied: pyarrow>=4.0 in /usr/local/lib/python3.11/dist-packages (from streamlit==1.18.1->-r requirements.txt (line 4)) (17.0.0)\n",
            "Requirement already satisfied: pympler>=0.9 in /usr/local/lib/python3.11/dist-packages (from streamlit==1.18.1->-r requirements.txt (line 4)) (1.1)\n",
            "Requirement already satisfied: python-dateutil in /usr/local/lib/python3.11/dist-packages (from streamlit==1.18.1->-r requirements.txt (line 4)) (2.8.2)\n",
            "Requirement already satisfied: rich>=10.11.0 in /usr/local/lib/python3.11/dist-packages (from streamlit==1.18.1->-r requirements.txt (line 4)) (13.9.4)\n",
            "Requirement already satisfied: semver in /usr/local/lib/python3.11/dist-packages (from streamlit==1.18.1->-r requirements.txt (line 4)) (3.0.4)\n",
            "Requirement already satisfied: toml in /usr/local/lib/python3.11/dist-packages (from streamlit==1.18.1->-r requirements.txt (line 4)) (0.10.2)\n",
            "Requirement already satisfied: typing-extensions>=3.10.0.0 in /usr/local/lib/python3.11/dist-packages (from streamlit==1.18.1->-r requirements.txt (line 4)) (4.12.2)\n",
            "Requirement already satisfied: tzlocal>=1.1 in /usr/local/lib/python3.11/dist-packages (from streamlit==1.18.1->-r requirements.txt (line 4)) (5.3)\n",
            "Requirement already satisfied: validators>=0.2 in /usr/local/lib/python3.11/dist-packages (from streamlit==1.18.1->-r requirements.txt (line 4)) (0.34.0)\n",
            "Requirement already satisfied: gitpython!=3.1.19 in /usr/local/lib/python3.11/dist-packages (from streamlit==1.18.1->-r requirements.txt (line 4)) (3.1.44)\n",
            "Requirement already satisfied: pydeck>=0.1.dev5 in /usr/local/lib/python3.11/dist-packages (from streamlit==1.18.1->-r requirements.txt (line 4)) (0.9.1)\n",
            "Requirement already satisfied: tornado>=6.0.3 in /usr/local/lib/python3.11/dist-packages (from streamlit==1.18.1->-r requirements.txt (line 4)) (6.4.2)\n",
            "Requirement already satisfied: watchdog in /usr/local/lib/python3.11/dist-packages (from streamlit==1.18.1->-r requirements.txt (line 4)) (6.0.0)\n",
            "Requirement already satisfied: tqdm in /usr/local/lib/python3.11/dist-packages (from openai==0.27.6->-r requirements.txt (line 5)) (4.67.1)\n",
            "Requirement already satisfied: entrypoints in /usr/local/lib/python3.11/dist-packages (from altair==4->-r requirements.txt (line 7)) (0.4)\n",
            "Requirement already satisfied: jinja2 in /usr/local/lib/python3.11/dist-packages (from altair==4->-r requirements.txt (line 7)) (3.1.5)\n",
            "Requirement already satisfied: jsonschema in /usr/local/lib/python3.11/dist-packages (from altair==4->-r requirements.txt (line 7)) (4.23.0)\n",
            "Requirement already satisfied: toolz in /usr/local/lib/python3.11/dist-packages (from altair==4->-r requirements.txt (line 7)) (0.12.1)\n",
            "Requirement already satisfied: regex>=2022.1.18 in /usr/local/lib/python3.11/dist-packages (from tiktoken==0.4.0->-r requirements.txt (line 8)) (2024.11.6)\n",
            "Requirement already satisfied: aiohappyeyeballs>=2.3.0 in /usr/local/lib/python3.11/dist-packages (from aiohttp<4.0.0,>=3.8.3->langchain==0.0.184->-r requirements.txt (line 1)) (2.4.6)\n",
            "Requirement already satisfied: aiosignal>=1.1.2 in /usr/local/lib/python3.11/dist-packages (from aiohttp<4.0.0,>=3.8.3->langchain==0.0.184->-r requirements.txt (line 1)) (1.3.2)\n",
            "Requirement already satisfied: attrs>=17.3.0 in /usr/local/lib/python3.11/dist-packages (from aiohttp<4.0.0,>=3.8.3->langchain==0.0.184->-r requirements.txt (line 1)) (25.1.0)\n",
            "Requirement already satisfied: frozenlist>=1.1.1 in /usr/local/lib/python3.11/dist-packages (from aiohttp<4.0.0,>=3.8.3->langchain==0.0.184->-r requirements.txt (line 1)) (1.5.0)\n",
            "Requirement already satisfied: multidict<7.0,>=4.5 in /usr/local/lib/python3.11/dist-packages (from aiohttp<4.0.0,>=3.8.3->langchain==0.0.184->-r requirements.txt (line 1)) (6.1.0)\n",
            "Requirement already satisfied: propcache>=0.2.0 in /usr/local/lib/python3.11/dist-packages (from aiohttp<4.0.0,>=3.8.3->langchain==0.0.184->-r requirements.txt (line 1)) (0.2.1)\n",
            "Requirement already satisfied: yarl<2.0,>=1.17.0 in /usr/local/lib/python3.11/dist-packages (from aiohttp<4.0.0,>=3.8.3->langchain==0.0.184->-r requirements.txt (line 1)) (1.18.3)\n",
            "Requirement already satisfied: marshmallow<4.0.0,>=3.18.0 in /usr/local/lib/python3.11/dist-packages (from dataclasses-json<0.6.0,>=0.5.7->langchain==0.0.184->-r requirements.txt (line 1)) (3.26.1)\n",
            "Requirement already satisfied: typing-inspect<1,>=0.4.0 in /usr/local/lib/python3.11/dist-packages (from dataclasses-json<0.6.0,>=0.5.7->langchain==0.0.184->-r requirements.txt (line 1)) (0.9.0)\n",
            "Requirement already satisfied: gitdb<5,>=4.0.1 in /usr/local/lib/python3.11/dist-packages (from gitpython!=3.1.19->streamlit==1.18.1->-r requirements.txt (line 4)) (4.0.12)\n",
            "Requirement already satisfied: zipp>=3.20 in /usr/local/lib/python3.11/dist-packages (from importlib-metadata>=1.4->streamlit==1.18.1->-r requirements.txt (line 4)) (3.21.0)\n",
            "Requirement already satisfied: pytz>=2020.1 in /usr/local/lib/python3.11/dist-packages (from pandas>=0.25->streamlit==1.18.1->-r requirements.txt (line 4)) (2025.1)\n",
            "Requirement already satisfied: tzdata>=2022.7 in /usr/local/lib/python3.11/dist-packages (from pandas>=0.25->streamlit==1.18.1->-r requirements.txt (line 4)) (2025.1)\n",
            "Requirement already satisfied: MarkupSafe>=2.0 in /usr/local/lib/python3.11/dist-packages (from jinja2->altair==4->-r requirements.txt (line 7)) (3.0.2)\n",
            "Requirement already satisfied: six>=1.5 in /usr/local/lib/python3.11/dist-packages (from python-dateutil->streamlit==1.18.1->-r requirements.txt (line 4)) (1.17.0)\n",
            "Requirement already satisfied: charset-normalizer<4,>=2 in /usr/local/lib/python3.11/dist-packages (from requests<3,>=2->langchain==0.0.184->-r requirements.txt (line 1)) (3.4.1)\n",
            "Requirement already satisfied: idna<4,>=2.5 in /usr/local/lib/python3.11/dist-packages (from requests<3,>=2->langchain==0.0.184->-r requirements.txt (line 1)) (3.10)\n",
            "Requirement already satisfied: urllib3<3,>=1.21.1 in /usr/local/lib/python3.11/dist-packages (from requests<3,>=2->langchain==0.0.184->-r requirements.txt (line 1)) (2.3.0)\n",
            "Requirement already satisfied: certifi>=2017.4.17 in /usr/local/lib/python3.11/dist-packages (from requests<3,>=2->langchain==0.0.184->-r requirements.txt (line 1)) (2025.1.31)\n",
            "Requirement already satisfied: markdown-it-py>=2.2.0 in /usr/local/lib/python3.11/dist-packages (from rich>=10.11.0->streamlit==1.18.1->-r requirements.txt (line 4)) (3.0.0)\n",
            "Requirement already satisfied: pygments<3.0.0,>=2.13.0 in /usr/local/lib/python3.11/dist-packages (from rich>=10.11.0->streamlit==1.18.1->-r requirements.txt (line 4)) (2.18.0)\n",
            "Requirement already satisfied: greenlet!=0.4.17 in /usr/local/lib/python3.11/dist-packages (from SQLAlchemy<3,>=1.4->langchain==0.0.184->-r requirements.txt (line 1)) (3.1.1)\n",
            "Requirement already satisfied: jsonschema-specifications>=2023.03.6 in /usr/local/lib/python3.11/dist-packages (from jsonschema->altair==4->-r requirements.txt (line 7)) (2024.10.1)\n",
            "Requirement already satisfied: referencing>=0.28.4 in /usr/local/lib/python3.11/dist-packages (from jsonschema->altair==4->-r requirements.txt (line 7)) (0.36.2)\n",
            "Requirement already satisfied: rpds-py>=0.7.1 in /usr/local/lib/python3.11/dist-packages (from jsonschema->altair==4->-r requirements.txt (line 7)) (0.22.3)\n",
            "Requirement already satisfied: smmap<6,>=3.0.1 in /usr/local/lib/python3.11/dist-packages (from gitdb<5,>=4.0.1->gitpython!=3.1.19->streamlit==1.18.1->-r requirements.txt (line 4)) (5.0.2)\n",
            "Requirement already satisfied: mdurl~=0.1 in /usr/local/lib/python3.11/dist-packages (from markdown-it-py>=2.2.0->rich>=10.11.0->streamlit==1.18.1->-r requirements.txt (line 4)) (0.1.2)\n",
            "Requirement already satisfied: mypy-extensions>=0.3.0 in /usr/local/lib/python3.11/dist-packages (from typing-inspect<1,>=0.4.0->dataclasses-json<0.6.0,>=0.5.7->langchain==0.0.184->-r requirements.txt (line 1)) (1.0.0)\n"
          ]
        }
      ]
    },
    {
      "cell_type": "code",
      "source": [
        "%%writefile /content/ask-multiple-pdfs/.env\n",
        "OPENAI_API_KEY=your_openai_key_here\n",
        "HUGGINGFACEHUB_API_TOKEN=your_huggingface_key_here"
      ],
      "metadata": {
        "colab": {
          "base_uri": "https://localhost:8080/"
        },
        "id": "X5ZOIfi_AZAI",
        "outputId": "6ce4415f-a42d-401f-bccf-197f15acd412"
      },
      "execution_count": null,
      "outputs": [
        {
          "output_type": "stream",
          "name": "stdout",
          "text": [
            "Writing /content/ask-multiple-pdfs/.env\n"
          ]
        }
      ]
    },
    {
      "cell_type": "code",
      "source": [
        "!pip install python-dotenv"
      ],
      "metadata": {
        "colab": {
          "base_uri": "https://localhost:8080/"
        },
        "id": "O0V3I6XeAjT1",
        "outputId": "7c1dfda3-4ea0-4ee1-8f9c-10cb32480843"
      },
      "execution_count": null,
      "outputs": [
        {
          "output_type": "stream",
          "name": "stdout",
          "text": [
            "Requirement already satisfied: python-dotenv in /usr/local/lib/python3.11/dist-packages (1.0.0)\n"
          ]
        }
      ]
    },
    {
      "cell_type": "code",
      "source": [
        "from pyngrok import ngrok\n",
        "\n",
        "# Replace 'your-authtoken' with your actual ngrok authtoken\n",
        "ngrok.set_auth_token(\"2sfKx6Xc25HDKVX2PotHdb97qC7_514M1DGKxd7UZEWqr2SJV\")\n",
        "\n",
        "# Open a tunnel to the Streamlit app on port 8501\n",
        "public_url = ngrok.connect(8501)\n",
        "\n",
        "print(f\"Streamlit app is live at: {public_url}\")\n",
        "\n"
      ],
      "metadata": {
        "id": "xR8ziAKuA1MC"
      },
      "execution_count": null,
      "outputs": []
    },
    {
      "cell_type": "code",
      "source": [
        "!streamlit run app.py\n"
      ],
      "metadata": {
        "colab": {
          "base_uri": "https://localhost:8080/"
        },
        "collapsed": true,
        "id": "KeXfyAS4CW61",
        "outputId": "6800bd6e-6613-4561-af53-9666ac01d956"
      },
      "execution_count": null,
      "outputs": [
        {
          "output_type": "stream",
          "name": "stdout",
          "text": [
            ""
          ]
        }
      ]
    }
  ]
}
